{
 "cells": [
  {
   "cell_type": "code",
   "execution_count": 2,
   "metadata": {},
   "outputs": [
    {
     "name": "stdout",
     "output_type": "stream",
     "text": [
      "Accuracy: 0.0\n",
      "Classification Report:\n",
      "                                                                                                                                              precision    recall  f1-score   support\n",
      "\n",
      "                                                     Click on the 'Forgot Password' link and follow the instructions to reset your password.       0.00      0.00      0.00       0.0\n",
      "                           If you encounter an error, please contact our support team at support@jobdekho.com with the details of the issue.       0.00      0.00      0.00       1.0\n",
      "If you find a fraudulent job posting, please report it immediately using the 'Report' button on the job listing or contact our support team.       0.00      0.00      0.00       0.0\n",
      "      To apply for a job, click on the job listing and then click on the 'Apply' button. Follow the instructions to submit your application.       0.00      0.00      0.00       0.0\n",
      "                                                       To change your account type, please contact our support team at support@jobdekho.com.       0.00      0.00      0.00       1.0\n",
      "                              To change your password, go to your profile settings, click on 'Change Password', and follow the instructions.       0.00      0.00      0.00       1.0\n",
      "                                                            To delete your account, please contact our support team at support@jobdekho.com.       0.00      0.00      0.00       0.0\n",
      "                                                    To update your profile information, go to your profile page and click on 'Edit Profile'.       0.00      0.00      0.00       1.0\n",
      "                                       Yes, you can view the jobs you've applied for by going to the 'Applications' section in your profile.       0.00      0.00      0.00       1.0\n",
      "                                    You can apply for multiple jobs by visiting each job listing and submitting an application for each one.       0.00      0.00      0.00       1.0\n",
      "    You can follow up on your job application by sending a polite email to the employer, expressing your continued interest in the position.       0.00      0.00      0.00       0.0\n",
      "                       You can search for jobs by entering keywords in the search bar and applying filters for location, job type, and more.       0.00      0.00      0.00       0.0\n",
      "                                               You can track your application status by going to the 'Applications' section in your profile.       0.00      0.00      0.00       1.0\n",
      "\n",
      "                                                                                                                                    accuracy                           0.00       7.0\n",
      "                                                                                                                                   macro avg       0.00      0.00      0.00       7.0\n",
      "                                                                                                                                weighted avg       0.00      0.00      0.00       7.0\n",
      "\n",
      "Model saved as job_portal_model.pkl\n"
     ]
    },
    {
     "name": "stderr",
     "output_type": "stream",
     "text": [
      "/Users/soumajithdas/Desktop/project/ardent/ML-model/jobportal/lib/python3.12/site-packages/sklearn/metrics/_classification.py:1517: UndefinedMetricWarning: Precision is ill-defined and being set to 0.0 in labels with no predicted samples. Use `zero_division` parameter to control this behavior.\n",
      "  _warn_prf(average, modifier, f\"{metric.capitalize()} is\", len(result))\n",
      "/Users/soumajithdas/Desktop/project/ardent/ML-model/jobportal/lib/python3.12/site-packages/sklearn/metrics/_classification.py:1517: UndefinedMetricWarning: Recall is ill-defined and being set to 0.0 in labels with no true samples. Use `zero_division` parameter to control this behavior.\n",
      "  _warn_prf(average, modifier, f\"{metric.capitalize()} is\", len(result))\n",
      "/Users/soumajithdas/Desktop/project/ardent/ML-model/jobportal/lib/python3.12/site-packages/sklearn/metrics/_classification.py:1517: UndefinedMetricWarning: Precision is ill-defined and being set to 0.0 in labels with no predicted samples. Use `zero_division` parameter to control this behavior.\n",
      "  _warn_prf(average, modifier, f\"{metric.capitalize()} is\", len(result))\n",
      "/Users/soumajithdas/Desktop/project/ardent/ML-model/jobportal/lib/python3.12/site-packages/sklearn/metrics/_classification.py:1517: UndefinedMetricWarning: Recall is ill-defined and being set to 0.0 in labels with no true samples. Use `zero_division` parameter to control this behavior.\n",
      "  _warn_prf(average, modifier, f\"{metric.capitalize()} is\", len(result))\n",
      "/Users/soumajithdas/Desktop/project/ardent/ML-model/jobportal/lib/python3.12/site-packages/sklearn/metrics/_classification.py:1517: UndefinedMetricWarning: Precision is ill-defined and being set to 0.0 in labels with no predicted samples. Use `zero_division` parameter to control this behavior.\n",
      "  _warn_prf(average, modifier, f\"{metric.capitalize()} is\", len(result))\n",
      "/Users/soumajithdas/Desktop/project/ardent/ML-model/jobportal/lib/python3.12/site-packages/sklearn/metrics/_classification.py:1517: UndefinedMetricWarning: Recall is ill-defined and being set to 0.0 in labels with no true samples. Use `zero_division` parameter to control this behavior.\n",
      "  _warn_prf(average, modifier, f\"{metric.capitalize()} is\", len(result))\n"
     ]
    }
   ],
   "source": [
    "# Import necessary libraries\n",
    "import pandas as pd\n",
    "from sklearn.model_selection import train_test_split\n",
    "from sklearn.feature_extraction.text import TfidfVectorizer\n",
    "from sklearn.linear_model import LogisticRegression\n",
    "from sklearn.pipeline import Pipeline\n",
    "from sklearn.metrics import accuracy_score, classification_report\n",
    "import pickle\n",
    "\n",
    "# Load the dataset\n",
    "file_path = 'JobPortalDataset.csv'\n",
    "dataset = pd.read_csv(file_path)\n",
    "\n",
    "# Split the dataset into features and labels\n",
    "X = dataset['User Input']\n",
    "y = dataset['Response']\n",
    "\n",
    "# Split the data into training and testing sets\n",
    "X_train, X_test, y_train, y_test = train_test_split(X, y, test_size=0.2, random_state=42)\n",
    "\n",
    "# Create a text classification pipeline\n",
    "pipeline = Pipeline([\n",
    "    ('tfidf', TfidfVectorizer()),\n",
    "    ('clf', LogisticRegression(solver='lbfgs', max_iter=1000))\n",
    "])\n",
    "\n",
    "# Train the model\n",
    "pipeline.fit(X_train, y_train)\n",
    "\n",
    "# Predict on the test set\n",
    "y_pred = pipeline.predict(X_test)\n",
    "\n",
    "# Evaluate the model\n",
    "print(f'Accuracy: {accuracy_score(y_test, y_pred)}')\n",
    "print(f'Classification Report:\\n{classification_report(y_test, y_pred)}')\n",
    "\n",
    "# Save the model with pickle\n",
    "with open('job_portal_model.pkl', 'wb') as model_file:\n",
    "    pickle.dump(pipeline, model_file)\n",
    "\n",
    "print('Model saved as job_portal_model.pkl')"
   ]
  }
 ],
 "metadata": {
  "kernelspec": {
   "display_name": ".venv",
   "language": "python",
   "name": "python3"
  },
  "language_info": {
   "codemirror_mode": {
    "name": "ipython",
    "version": 3
   },
   "file_extension": ".py",
   "mimetype": "text/x-python",
   "name": "python",
   "nbconvert_exporter": "python",
   "pygments_lexer": "ipython3",
   "version": "3.12.2"
  }
 },
 "nbformat": 4,
 "nbformat_minor": 2
}
